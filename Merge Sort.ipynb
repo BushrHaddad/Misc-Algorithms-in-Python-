{
  "nbformat": 4,
  "nbformat_minor": 0,
  "metadata": {
    "colab": {
      "name": "test.ipynb",
      "provenance": [],
      "collapsed_sections": [],
      "machine_shape": "hm"
    },
    "kernelspec": {
      "name": "python3",
      "display_name": "Python 3"
    },
    "accelerator": "TPU"
  },
  "cells": [
    {
      "cell_type": "code",
      "metadata": {
        "id": "FJXZCnU_uLgy",
        "outputId": "687e5dac-3e92-43ba-c1b0-ca1d1b56120c",
        "colab": {
          "base_uri": "https://localhost:8080/",
          "height": 36
        }
      },
      "source": [
        "def merge(t1, t2):\n",
        "  t = []\n",
        "  i= 0\n",
        "  j = 0 \n",
        "  while(True):\n",
        "    if i >= len(t1) and j >= len(t2):\n",
        "      break\n",
        "      \n",
        "    if i >= len(t1):\n",
        "      t.append(t2[j])\n",
        "      j += 1 \n",
        "    elif j >= len(t2):\n",
        "      t.append(t1[i])\n",
        "      i += 1 \n",
        "\n",
        "    elif t1[i] < t2[j] :\n",
        "      t.append(t1[i])\n",
        "      i += 1\n",
        "    elif t1[i] >= t2[j]:\n",
        "      t.append(t2[j])\n",
        "      j += 1 \n",
        "  \n",
        "  return t \n",
        "\n",
        "\n",
        "\n",
        "def merge_sort(first, end, list_):\n",
        "  mid = int ((first+end)/2)\n",
        "  if first >= end:\n",
        "    return [list_[min(first, end)]]\n",
        "\n",
        "  return merge(merge_sort(first, mid, list_), merge_sort(mid+1, end, list_))\n",
        "  \n",
        "\n",
        "\n",
        "list_ = [6,4,4,3,2,1]\n",
        "merge_sort(0,len(list_)-1, list_ )\n"
      ],
      "execution_count": 23,
      "outputs": [
        {
          "output_type": "execute_result",
          "data": {
            "text/plain": [
              "[1, 2, 3, 4, 4, 6]"
            ]
          },
          "metadata": {
            "tags": []
          },
          "execution_count": 23
        }
      ]
    }
  ]
}