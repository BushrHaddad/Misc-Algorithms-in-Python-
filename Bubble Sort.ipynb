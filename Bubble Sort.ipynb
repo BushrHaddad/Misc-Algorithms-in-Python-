{
  "nbformat": 4,
  "nbformat_minor": 0,
  "metadata": {
    "colab": {
      "name": "Untitled0.ipynb",
      "provenance": []
    },
    "kernelspec": {
      "name": "python3",
      "display_name": "Python 3"
    }
  },
  "cells": [
    {
      "cell_type": "code",
      "metadata": {
        "id": "ksDc9YeTiOQj",
        "outputId": "6d6f4a86-6ee4-41f0-bd54-e5c716bfad53",
        "colab": {
          "base_uri": "https://localhost:8080/",
          "height": 36
        }
      },
      "source": [
        "# function to swap between two variables\n",
        "def swap(a,b):\n",
        "  a, b = b, a\n",
        "  return a,b\n",
        "\n",
        "def bubble_sort(list_):\n",
        "  end = len(list_)\n",
        "  \n",
        "  while(end >= 1):\n",
        "    end -= 1\n",
        "    for i in range(0,end):\n",
        "      if list_[i]>list_[i+1]:\n",
        "        a, b =  swap(list_[i], list_[i+1])\n",
        "        list_[i] = a\n",
        "        list_[i+1] = b\n",
        "  \n",
        "  return list_\n",
        "\n",
        "list_ = [5,3,3,22,5,21,3,1,1]\n",
        "bubble_sort(list_)"
      ],
      "execution_count": 1,
      "outputs": [
        {
          "output_type": "execute_result",
          "data": {
            "text/plain": [
              "[1, 1, 3, 3, 3, 5, 5, 21, 22]"
            ]
          },
          "metadata": {
            "tags": []
          },
          "execution_count": 1
        }
      ]
    },
    {
      "cell_type": "code",
      "metadata": {
        "id": "YzW938NPjKOl"
      },
      "source": [
        ""
      ],
      "execution_count": null,
      "outputs": []
    }
  ]
}