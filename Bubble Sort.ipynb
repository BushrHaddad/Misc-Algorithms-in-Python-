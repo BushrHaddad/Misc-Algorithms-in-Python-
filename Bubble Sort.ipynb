{
  "nbformat": 4,
  "nbformat_minor": 0,
  "metadata": {
    "colab": {
      "name": "Untitled0.ipynb",
      "provenance": []
    },
    "kernelspec": {
      "name": "python3",
      "display_name": "Python 3"
    }
  },
  "cells": [
    {
      "cell_type": "code",
      "metadata": {
        "id": "ksDc9YeTiOQj"
      },
      "source": [
        "# function to swap between two variables\n",
        "def swap(a,b):\n",
        "  a, b = b, a\n",
        "  return a,b\n",
        "\n",
        "def bubble_sort(list_):\n",
        "  end = len(list_)\n",
        "  \n",
        "  while(end >= 1):\n",
        "    end -= 1\n",
        "    for i in range(0,end):\n",
        "      if list_[i]>list_[i+1]:\n",
        "        a, b =  swap(list_[i], list_[i+1])\n",
        "        list_[i] = a\n",
        "        list_[i+1] = b\n",
        "  \n",
        "  return list_\n",
        "\n",
        "bubble_sort([5,3,3,2,1])"
      ],
      "execution_count": null,
      "outputs": []
    }
  ]
}