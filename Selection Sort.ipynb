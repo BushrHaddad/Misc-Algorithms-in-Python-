{
  "nbformat": 4,
  "nbformat_minor": 0,
  "metadata": {
    "colab": {
      "name": "Selection Sort.ipynb",
      "provenance": []
    },
    "kernelspec": {
      "name": "python3",
      "display_name": "Python 3"
    }
  },
  "cells": [
    {
      "cell_type": "code",
      "metadata": {
        "id": "ksDc9YeTiOQj",
        "outputId": "5ffd6ade-8d43-4a65-f569-0cf81b60fc39",
        "colab": {
          "base_uri": "https://localhost:8080/",
          "height": 36
        }
      },
      "source": [
        "# function to swap between two variables\n",
        "def swap(a,b):\n",
        "  a, b = b, a\n",
        "  return a,b\n",
        "\n",
        "def selection_sort(list_):\n",
        "  end = len(list_)\n",
        "  for i in range(0,end):\n",
        "    min = list_[i]\n",
        "    for j in range(i, end):\n",
        "      if min >= list_[j]:\n",
        "        min = list_[j]\n",
        "        minimum_idx = j\n",
        "\n",
        "    list_[i] ,list_[minimum_idx] = swap(list_[i], list_[minimum_idx])\n",
        "    \n",
        "  return list_\n",
        "      \n",
        "list_ = [5,3,3,22,5,21,3,1,1]\n",
        "selection_sort(list_)"
      ],
      "execution_count": 17,
      "outputs": [
        {
          "output_type": "execute_result",
          "data": {
            "text/plain": [
              "[1, 1, 3, 3, 3, 5, 5, 21, 22]"
            ]
          },
          "metadata": {
            "tags": []
          },
          "execution_count": 17
        }
      ]
    }
  ]
}