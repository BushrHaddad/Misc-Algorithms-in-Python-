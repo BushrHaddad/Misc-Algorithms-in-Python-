{
  "nbformat": 4,
  "nbformat_minor": 0,
  "metadata": {
    "colab": {
      "name": "Untitled0.ipynb",
      "provenance": []
    },
    "kernelspec": {
      "name": "python3",
      "display_name": "Python 3"
    }
  },
  "cells": [
    {
      "cell_type": "code",
      "metadata": {
        "id": "ksDc9YeTiOQj",
        "outputId": "226abaac-60a9-4e65-c83a-89c5ae2ccdc8",
        "colab": {
          "base_uri": "https://localhost:8080/",
          "height": 36
        }
      },
      "source": [
        "# function to swap between two variables\n",
        "def swap(a,b):\n",
        "  a, b = b, a\n",
        "  return a,b\n",
        "\n",
        "def selection_sort(list_):\n",
        "  end = len(list_)\n",
        "  for i in range(0,end):\n",
        "    for j in range(i+1, end):\n",
        "      minimum_idx = i\n",
        "      if list_[minimum_idx] > list_[j]:\n",
        "        minimum_idx = j\n",
        "    list_[i] ,list_[minimum_idx] = swap(list_[i], list_[minimum_idx])\n",
        "      \n",
        "list_ = [5,3,3,22,5,21,3,1,1]\n",
        "bubble_sort(list_)"
      ],
      "execution_count": 3,
      "outputs": [
        {
          "output_type": "execute_result",
          "data": {
            "text/plain": [
              "[1, 1, 3, 3, 3, 5, 5, 21, 22]"
            ]
          },
          "metadata": {
            "tags": []
          },
          "execution_count": 3
        }
      ]
    }
  ]
}